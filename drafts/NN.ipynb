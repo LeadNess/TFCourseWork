{
 "cells": [
  {
   "cell_type": "code",
   "execution_count": 1,
   "metadata": {},
   "outputs": [
    {
     "data": {
      "text/plain": [
       "'2.0.0'"
      ]
     },
     "execution_count": 1,
     "metadata": {},
     "output_type": "execute_result"
    }
   ],
   "source": [
    "import os\n",
    "import requests\n",
    "import tensorflow as tf\n",
    "import numpy as np\n",
    "import pandas as pd\n",
    "import matplotlib.pyplot as plt\n",
    "from datetime import datetime\n",
    "tf.__version__"
   ]
  },
  {
   "cell_type": "markdown",
   "metadata": {},
   "source": [
    "\n",
    "#### INTRUSION DETECTOR LEARNING\n",
    "Software to detect network intrusions protects a computer network from unauthorized users, including perhaps insiders.  The intrusion detector learning task is to build a predictive model (i.e. a classifier) capable of distinguishing between bad connections, called intrusions or attacks, and good normal connections.\n",
    "\n",
    "The 1998 DARPA Intrusion Detection Evaluation Program was prepared and managed by MIT Lincoln Labs. The objective was to survey and evaluate research in intrusion detection.  A standard set of data to be audited, which includes a wide variety of intrusions simulated in a military network environment, was provided.  The 1999 KDD intrusion detection contest uses a version of this dataset.\n",
    "\n",
    "Lincoln Labs set up an environment to acquire nine weeks of raw TCP dump data for a local-area network (LAN) simulating a typical U.S. Air Force LAN.  They operated the LAN as if it were a true Air Force environment, but peppered it with multiple attacks.\n",
    "\n",
    "The raw training data was about four gigabytes of compressed binary TCP dump data from seven weeks of network traffic.  This was processed into about five million connection records.  Similarly, the two weeks of test data yielded around two million connection records.\n",
    "\n",
    "A connection is a sequence of TCP packets starting and ending at some well defined times, between which data flows to and from a source IP address to a target IP address under some well defined protocol.  Each connection is labeled as either normal, or as an attack, with exactly one specific attack type.  Each connection record consists of about 100 bytes.\n",
    "\n",
    "Attacks fall into four main categories:\n",
    "\n",
    "- DOS: denial-of-service, e.g. syn flood;\n",
    "- R2L: unauthorized access from a remote machine, e.g. guessing password;\n",
    "- U2R:  unauthorized access to local superuser (root) privileges, e.g., various ``buffer overflow'' attacks;\n",
    "- probing: surveillance and other probing, e.g., port scanning.\n",
    "\n",
    "It is important to note that the test data is not from the same probability distribution as the training data, and it includes specific attack types not in the training data.  This makes the task more realistic.  Some intrusion experts believe that most novel attacks are variants of known attacks and the \"signature\" of known attacks can be sufficient to catch novel variants.  The datasets contain a total of 24 training attack types, with an additional 14 types in the test data only.\n",
    " \n",
    " \n",
    "#### DERIVED FEATURES\n",
    "Stolfo et al. defined higher-level features that help in distinguishing normal connections from attacks.  There are several categories of derived features.\n",
    "\n",
    "The ``same host'' features examine only the connections in the past two seconds that have the same destination host as the current connection, and calculate statistics related to protocol behavior, service, etc.\n",
    "\n",
    "The similar ``same service'' features examine only the connections in the past two seconds that have the same service as the current connection.\n",
    "\n",
    "\"Same host\" and \"same service\" features are together called  time-based traffic features of the connection records.\n",
    "\n",
    "Some probing attacks scan the hosts (or ports) using a much larger time interval than two seconds, for example once per minute.  Therefore, connection records were also sorted by destination host, and features were constructed using a window of 100 connections to the same host instead of a time window.  This yields a set of so-called host-based traffic features.\n",
    "\n",
    "Unlike most of the DOS and probing attacks, there appear to be no sequential patterns that are frequent in records of R2L and U2R attacks. This is because the DOS and probing attacks involve many connections to some host(s) in a very short period of time, but the R2L and U2R attacks are embedded in the data portions\n",
    "of packets, and normally involve only a single connection.\n",
    "\n",
    "Useful algorithms for mining the unstructured data portions of packets automatically are an open research question.  Stolfo et al. used domain knowledge to add features that look for suspicious behavior in the data portions, such as the number of failed login attempts."
   ]
  },
  {
   "cell_type": "code",
   "execution_count": 3,
   "metadata": {},
   "outputs": [
    {
     "data": {
      "text/plain": [
       "{'duration': 'continuous',\n",
       " 'protocol_type': 'symbolic',\n",
       " 'service': 'symbolic',\n",
       " 'flag': 'symbolic',\n",
       " 'src_bytes': 'continuous',\n",
       " 'dst_bytes': 'continuous',\n",
       " 'land': 'symbolic',\n",
       " 'wrong_fragment': 'continuous',\n",
       " 'urgent': 'continuous',\n",
       " 'hot': 'continuous',\n",
       " 'num_failed_logins': 'continuous',\n",
       " 'logged_in': 'symbolic',\n",
       " 'num_compromised': 'continuous',\n",
       " 'root_shell': 'continuous',\n",
       " 'su_attempted': 'continuous',\n",
       " 'num_root': 'continuous',\n",
       " 'num_file_creations': 'continuous',\n",
       " 'num_shells': 'continuous',\n",
       " 'num_access_files': 'continuous',\n",
       " 'num_outbound_cmds': 'continuous',\n",
       " 'is_host_login': 'symbolic',\n",
       " 'is_guest_login': 'symbolic',\n",
       " 'count': 'continuous',\n",
       " 'srv_count': 'continuous',\n",
       " 'serror_rate': 'continuous',\n",
       " 'srv_serror_rate': 'continuous',\n",
       " 'rerror_rate': 'continuous',\n",
       " 'srv_rerror_rate': 'continuous',\n",
       " 'same_srv_rate': 'continuous',\n",
       " 'diff_srv_rate': 'continuous',\n",
       " 'srv_diff_host_rate': 'continuous',\n",
       " 'dst_host_count': 'continuous',\n",
       " 'dst_host_srv_count': 'continuous',\n",
       " 'dst_host_same_srv_rate': 'continuous',\n",
       " 'dst_host_diff_srv_rate': 'continuous',\n",
       " 'dst_host_same_src_port_rate': 'continuous',\n",
       " 'dst_host_srv_diff_host_rate': 'continuous',\n",
       " 'dst_host_serror_rate': 'continuous',\n",
       " 'dst_host_srv_serror_rate': 'continuous',\n",
       " 'dst_host_rerror_rate': 'continuous',\n",
       " 'dst_host_srv_rerror_rate': 'continuous'}"
      ]
     },
     "execution_count": 3,
     "metadata": {},
     "output_type": "execute_result"
    }
   ],
   "source": [
    "content = requests.get('http://kdd.ics.uci.edu/databases/kddcup99/kddcup.names').text\n",
    "attack_types, *features = content.split('\\n')[:-1]\n",
    "attack_types = attack_types.split(',')\n",
    "attack_types[-1] = attack_types[-1][:-1]\n",
    "features_types_dict = {f.split(':')[0]: f.split(':')[1][1:-1] for f in features}\n",
    "features = list(features_types_dict.keys())\n",
    "features_types_dict['dst_host_srv_rerror_rate'] = 'continuous'\n",
    "features_types_dict"
   ]
  },
  {
   "cell_type": "code",
   "execution_count": 4,
   "metadata": {},
   "outputs": [
    {
     "data": {
      "text/plain": [
       "{'back': 'dos',\n",
       " 'buffer_overflow': 'u2r',\n",
       " 'ftp_write': 'r2l',\n",
       " 'guess_passwd': 'r2l',\n",
       " 'imap': 'r2l',\n",
       " 'ipsweep': 'probe',\n",
       " 'land': 'dos',\n",
       " 'loadmodule': 'u2r',\n",
       " 'multihop': 'r2l',\n",
       " 'neptune': 'dos',\n",
       " 'nmap': 'probe',\n",
       " 'perl': 'u2r',\n",
       " 'phf': 'r2l',\n",
       " 'pod': 'dos',\n",
       " 'portsweep': 'probe',\n",
       " 'rootkit': 'u2r',\n",
       " 'satan': 'probe',\n",
       " 'smurf': 'dos',\n",
       " 'spy': 'r2l',\n",
       " 'teardrop': 'dos',\n",
       " 'warezclient': 'r2l',\n",
       " 'warezmaster': 'r2l',\n",
       " 'normal': 'normal'}"
      ]
     },
     "execution_count": 4,
     "metadata": {},
     "output_type": "execute_result"
    }
   ],
   "source": [
    "buf = requests.get('http://kdd.ics.uci.edu/databases/kddcup99/training_attack_types').text\n",
    "buf = buf.split('\\n')[:-2]\n",
    "target_classes = {\n",
    "    'normal': 0,\n",
    "    'u2r': 1,\n",
    "    'r2l': 2,\n",
    "    'probe': 3,\n",
    "    'dos': 4\n",
    "}\n",
    "attack_types_dict = {line.split()[0]: line.split()[1] for line in buf}\n",
    "attack_types_dict['normal'] = 'normal'\n",
    "attack_types_dict"
   ]
  },
  {
   "cell_type": "code",
   "execution_count": 5,
   "metadata": {},
   "outputs": [],
   "source": [
    "_URL = 'http://kdd.ics.uci.edu/databases/kddcup99/kddcup.data.gz'\n",
    "\n",
    "zip_file = tf.keras.utils.get_file(origin=_URL,\n",
    "                                   fname=\"kddcup.data.gz\")\n",
    "\n",
    "base_dir = os.path.join(os.path.dirname(zip_file), 'kddcup.data')"
   ]
  },
  {
   "cell_type": "code",
   "execution_count": 6,
   "metadata": {},
   "outputs": [],
   "source": [
    "import gzip\n",
    "import shutil\n",
    "\n",
    "with gzip.open(zip_file, 'rb') as f_in:\n",
    "    with open(base_dir, 'wb') as f_out:\n",
    "        shutil.copyfileobj(f_in, f_out)"
   ]
  },
  {
   "cell_type": "code",
   "execution_count": 7,
   "metadata": {},
   "outputs": [],
   "source": [
    "from sklearn.base import BaseEstimator, TransformerMixin\n",
    "\n",
    "\n",
    "class DFSelector(BaseEstimator, TransformerMixin):\n",
    "    \n",
    "    def __init__(self, attributes_names):\n",
    "        self.attributes_names = attributes_names\n",
    "        \n",
    "    def fit(self, X, y=None):\n",
    "        return self\n",
    "    \n",
    "    def transform(self, X):\n",
    "        return X[self.attributes_names].values"
   ]
  },
  {
   "cell_type": "code",
   "execution_count": 8,
   "metadata": {},
   "outputs": [],
   "source": [
    "from sklearn.pipeline import Pipeline\n",
    "from sklearn.preprocessing import LabelBinarizer, MinMaxScaler\n",
    "\n",
    "num_attrs = [0, 4, 5, 7, 8, 9, 12, 13, 14, 15, 16, 17, 18, 22, 31, 32]\n",
    "cat_attrs = [1, 2, 3, 41]\n",
    "\n",
    "num_features_pipeline = Pipeline([\n",
    "    ('DataFrame2Numpy', DFSelector(attributes_names=num_attrs)),\n",
    "    ('Normalizer', MinMaxScaler())\n",
    "])\n",
    "\n",
    "cat_features_pipeline = Pipeline([\n",
    "    ('DataFrame2Numpy', DFSelector(attributes_names=cat_attrs)),\n",
    "    ('CategoricalEncoder', LabelBinarizer())\n",
    "])"
   ]
  },
  {
   "cell_type": "code",
   "execution_count": 9,
   "metadata": {},
   "outputs": [],
   "source": [
    "def data_preprocessing(data):\n",
    "    data[num_attrs] = num_features_pipeline.fit_transform(data[num_attrs])\n",
    "    data[cat_attrs] = cat_features_pipeline.fit_transform(data[cat_attrs])\n",
    "    return data"
   ]
  },
  {
   "cell_type": "code",
   "execution_count": 10,
   "metadata": {},
   "outputs": [
    {
     "data": {
      "text/plain": [
       "4898431"
      ]
     },
     "execution_count": 10,
     "metadata": {},
     "output_type": "execute_result"
    }
   ],
   "source": [
    "BATCH_SIZE = 1000\n",
    "\n",
    "lines_count = !wc -l {base_dir}\n",
    "lines_count = int(lines_count[0].split()[0])\n",
    "lines_count"
   ]
  },
  {
   "cell_type": "code",
   "execution_count": 12,
   "metadata": {},
   "outputs": [],
   "source": [
    "#data_lines = tf.data.TextLineDataset(base_dir)\n",
    "#data_batches = data_lines.batch(128)\n",
    "\n",
    "#a = 1\n",
    "#for i in data_batches:a = np.frombuffer(i)"
   ]
  },
  {
   "cell_type": "code",
   "execution_count": 13,
   "metadata": {},
   "outputs": [],
   "source": [
    "#str(a[0])[2:-2].split()\n",
    "#np.frombuffer(a)\n",
    "#a"
   ]
  },
  {
   "cell_type": "code",
   "execution_count": 12,
   "metadata": {},
   "outputs": [
    {
     "data": {
      "text/html": [
       "<div>\n",
       "<style scoped>\n",
       "    .dataframe tbody tr th:only-of-type {\n",
       "        vertical-align: middle;\n",
       "    }\n",
       "\n",
       "    .dataframe tbody tr th {\n",
       "        vertical-align: top;\n",
       "    }\n",
       "\n",
       "    .dataframe thead th {\n",
       "        text-align: right;\n",
       "    }\n",
       "</style>\n",
       "<table border=\"1\" class=\"dataframe\">\n",
       "  <thead>\n",
       "    <tr style=\"text-align: right;\">\n",
       "      <th></th>\n",
       "      <th>0</th>\n",
       "      <th>1</th>\n",
       "      <th>2</th>\n",
       "      <th>3</th>\n",
       "      <th>4</th>\n",
       "      <th>5</th>\n",
       "      <th>6</th>\n",
       "      <th>7</th>\n",
       "      <th>8</th>\n",
       "      <th>9</th>\n",
       "      <th>...</th>\n",
       "      <th>32</th>\n",
       "      <th>33</th>\n",
       "      <th>34</th>\n",
       "      <th>35</th>\n",
       "      <th>36</th>\n",
       "      <th>37</th>\n",
       "      <th>38</th>\n",
       "      <th>39</th>\n",
       "      <th>40</th>\n",
       "      <th>41</th>\n",
       "    </tr>\n",
       "  </thead>\n",
       "  <tbody>\n",
       "    <tr>\n",
       "      <th>0</th>\n",
       "      <td>0</td>\n",
       "      <td>tcp</td>\n",
       "      <td>http</td>\n",
       "      <td>SF</td>\n",
       "      <td>215</td>\n",
       "      <td>45076</td>\n",
       "      <td>0</td>\n",
       "      <td>0</td>\n",
       "      <td>0</td>\n",
       "      <td>0</td>\n",
       "      <td>...</td>\n",
       "      <td>0</td>\n",
       "      <td>0.0</td>\n",
       "      <td>0.0</td>\n",
       "      <td>0.00</td>\n",
       "      <td>0.00</td>\n",
       "      <td>0.0</td>\n",
       "      <td>0.00</td>\n",
       "      <td>0.0</td>\n",
       "      <td>0.0</td>\n",
       "      <td>normal</td>\n",
       "    </tr>\n",
       "    <tr>\n",
       "      <th>1</th>\n",
       "      <td>0</td>\n",
       "      <td>tcp</td>\n",
       "      <td>http</td>\n",
       "      <td>SF</td>\n",
       "      <td>162</td>\n",
       "      <td>4528</td>\n",
       "      <td>0</td>\n",
       "      <td>0</td>\n",
       "      <td>0</td>\n",
       "      <td>0</td>\n",
       "      <td>...</td>\n",
       "      <td>1</td>\n",
       "      <td>1.0</td>\n",
       "      <td>0.0</td>\n",
       "      <td>1.00</td>\n",
       "      <td>0.00</td>\n",
       "      <td>0.0</td>\n",
       "      <td>0.00</td>\n",
       "      <td>0.0</td>\n",
       "      <td>0.0</td>\n",
       "      <td>normal</td>\n",
       "    </tr>\n",
       "    <tr>\n",
       "      <th>2</th>\n",
       "      <td>0</td>\n",
       "      <td>tcp</td>\n",
       "      <td>http</td>\n",
       "      <td>SF</td>\n",
       "      <td>236</td>\n",
       "      <td>1228</td>\n",
       "      <td>0</td>\n",
       "      <td>0</td>\n",
       "      <td>0</td>\n",
       "      <td>0</td>\n",
       "      <td>...</td>\n",
       "      <td>2</td>\n",
       "      <td>1.0</td>\n",
       "      <td>0.0</td>\n",
       "      <td>0.50</td>\n",
       "      <td>0.00</td>\n",
       "      <td>0.0</td>\n",
       "      <td>0.00</td>\n",
       "      <td>0.0</td>\n",
       "      <td>0.0</td>\n",
       "      <td>normal</td>\n",
       "    </tr>\n",
       "    <tr>\n",
       "      <th>3</th>\n",
       "      <td>0</td>\n",
       "      <td>tcp</td>\n",
       "      <td>http</td>\n",
       "      <td>SF</td>\n",
       "      <td>233</td>\n",
       "      <td>2032</td>\n",
       "      <td>0</td>\n",
       "      <td>0</td>\n",
       "      <td>0</td>\n",
       "      <td>0</td>\n",
       "      <td>...</td>\n",
       "      <td>3</td>\n",
       "      <td>1.0</td>\n",
       "      <td>0.0</td>\n",
       "      <td>0.33</td>\n",
       "      <td>0.00</td>\n",
       "      <td>0.0</td>\n",
       "      <td>0.00</td>\n",
       "      <td>0.0</td>\n",
       "      <td>0.0</td>\n",
       "      <td>normal</td>\n",
       "    </tr>\n",
       "    <tr>\n",
       "      <th>4</th>\n",
       "      <td>0</td>\n",
       "      <td>tcp</td>\n",
       "      <td>http</td>\n",
       "      <td>SF</td>\n",
       "      <td>239</td>\n",
       "      <td>486</td>\n",
       "      <td>0</td>\n",
       "      <td>0</td>\n",
       "      <td>0</td>\n",
       "      <td>0</td>\n",
       "      <td>...</td>\n",
       "      <td>4</td>\n",
       "      <td>1.0</td>\n",
       "      <td>0.0</td>\n",
       "      <td>0.25</td>\n",
       "      <td>0.00</td>\n",
       "      <td>0.0</td>\n",
       "      <td>0.00</td>\n",
       "      <td>0.0</td>\n",
       "      <td>0.0</td>\n",
       "      <td>normal</td>\n",
       "    </tr>\n",
       "    <tr>\n",
       "      <th>...</th>\n",
       "      <td>...</td>\n",
       "      <td>...</td>\n",
       "      <td>...</td>\n",
       "      <td>...</td>\n",
       "      <td>...</td>\n",
       "      <td>...</td>\n",
       "      <td>...</td>\n",
       "      <td>...</td>\n",
       "      <td>...</td>\n",
       "      <td>...</td>\n",
       "      <td>...</td>\n",
       "      <td>...</td>\n",
       "      <td>...</td>\n",
       "      <td>...</td>\n",
       "      <td>...</td>\n",
       "      <td>...</td>\n",
       "      <td>...</td>\n",
       "      <td>...</td>\n",
       "      <td>...</td>\n",
       "      <td>...</td>\n",
       "      <td>...</td>\n",
       "    </tr>\n",
       "    <tr>\n",
       "      <th>4898426</th>\n",
       "      <td>0</td>\n",
       "      <td>tcp</td>\n",
       "      <td>http</td>\n",
       "      <td>SF</td>\n",
       "      <td>212</td>\n",
       "      <td>2288</td>\n",
       "      <td>0</td>\n",
       "      <td>0</td>\n",
       "      <td>0</td>\n",
       "      <td>0</td>\n",
       "      <td>...</td>\n",
       "      <td>255</td>\n",
       "      <td>1.0</td>\n",
       "      <td>0.0</td>\n",
       "      <td>0.33</td>\n",
       "      <td>0.05</td>\n",
       "      <td>0.0</td>\n",
       "      <td>0.01</td>\n",
       "      <td>0.0</td>\n",
       "      <td>0.0</td>\n",
       "      <td>normal</td>\n",
       "    </tr>\n",
       "    <tr>\n",
       "      <th>4898427</th>\n",
       "      <td>0</td>\n",
       "      <td>tcp</td>\n",
       "      <td>http</td>\n",
       "      <td>SF</td>\n",
       "      <td>219</td>\n",
       "      <td>236</td>\n",
       "      <td>0</td>\n",
       "      <td>0</td>\n",
       "      <td>0</td>\n",
       "      <td>0</td>\n",
       "      <td>...</td>\n",
       "      <td>255</td>\n",
       "      <td>1.0</td>\n",
       "      <td>0.0</td>\n",
       "      <td>0.25</td>\n",
       "      <td>0.05</td>\n",
       "      <td>0.0</td>\n",
       "      <td>0.01</td>\n",
       "      <td>0.0</td>\n",
       "      <td>0.0</td>\n",
       "      <td>normal</td>\n",
       "    </tr>\n",
       "    <tr>\n",
       "      <th>4898428</th>\n",
       "      <td>0</td>\n",
       "      <td>tcp</td>\n",
       "      <td>http</td>\n",
       "      <td>SF</td>\n",
       "      <td>218</td>\n",
       "      <td>3610</td>\n",
       "      <td>0</td>\n",
       "      <td>0</td>\n",
       "      <td>0</td>\n",
       "      <td>0</td>\n",
       "      <td>...</td>\n",
       "      <td>255</td>\n",
       "      <td>1.0</td>\n",
       "      <td>0.0</td>\n",
       "      <td>0.20</td>\n",
       "      <td>0.05</td>\n",
       "      <td>0.0</td>\n",
       "      <td>0.01</td>\n",
       "      <td>0.0</td>\n",
       "      <td>0.0</td>\n",
       "      <td>normal</td>\n",
       "    </tr>\n",
       "    <tr>\n",
       "      <th>4898429</th>\n",
       "      <td>0</td>\n",
       "      <td>tcp</td>\n",
       "      <td>http</td>\n",
       "      <td>SF</td>\n",
       "      <td>219</td>\n",
       "      <td>1234</td>\n",
       "      <td>0</td>\n",
       "      <td>0</td>\n",
       "      <td>0</td>\n",
       "      <td>0</td>\n",
       "      <td>...</td>\n",
       "      <td>255</td>\n",
       "      <td>1.0</td>\n",
       "      <td>0.0</td>\n",
       "      <td>0.17</td>\n",
       "      <td>0.05</td>\n",
       "      <td>0.0</td>\n",
       "      <td>0.01</td>\n",
       "      <td>0.0</td>\n",
       "      <td>0.0</td>\n",
       "      <td>normal</td>\n",
       "    </tr>\n",
       "    <tr>\n",
       "      <th>4898430</th>\n",
       "      <td>0</td>\n",
       "      <td>tcp</td>\n",
       "      <td>http</td>\n",
       "      <td>SF</td>\n",
       "      <td>219</td>\n",
       "      <td>1098</td>\n",
       "      <td>0</td>\n",
       "      <td>0</td>\n",
       "      <td>0</td>\n",
       "      <td>0</td>\n",
       "      <td>...</td>\n",
       "      <td>255</td>\n",
       "      <td>1.0</td>\n",
       "      <td>0.0</td>\n",
       "      <td>0.14</td>\n",
       "      <td>0.05</td>\n",
       "      <td>0.0</td>\n",
       "      <td>0.01</td>\n",
       "      <td>0.0</td>\n",
       "      <td>0.0</td>\n",
       "      <td>normal</td>\n",
       "    </tr>\n",
       "  </tbody>\n",
       "</table>\n",
       "<p>4898431 rows × 42 columns</p>\n",
       "</div>"
      ],
      "text/plain": [
       "         0    1     2   3    4      5   6   7   8   9   ...   32   33   34  \\\n",
       "0         0  tcp  http  SF  215  45076   0   0   0   0  ...    0  0.0  0.0   \n",
       "1         0  tcp  http  SF  162   4528   0   0   0   0  ...    1  1.0  0.0   \n",
       "2         0  tcp  http  SF  236   1228   0   0   0   0  ...    2  1.0  0.0   \n",
       "3         0  tcp  http  SF  233   2032   0   0   0   0  ...    3  1.0  0.0   \n",
       "4         0  tcp  http  SF  239    486   0   0   0   0  ...    4  1.0  0.0   \n",
       "...      ..  ...   ...  ..  ...    ...  ..  ..  ..  ..  ...  ...  ...  ...   \n",
       "4898426   0  tcp  http  SF  212   2288   0   0   0   0  ...  255  1.0  0.0   \n",
       "4898427   0  tcp  http  SF  219    236   0   0   0   0  ...  255  1.0  0.0   \n",
       "4898428   0  tcp  http  SF  218   3610   0   0   0   0  ...  255  1.0  0.0   \n",
       "4898429   0  tcp  http  SF  219   1234   0   0   0   0  ...  255  1.0  0.0   \n",
       "4898430   0  tcp  http  SF  219   1098   0   0   0   0  ...  255  1.0  0.0   \n",
       "\n",
       "           35    36   37    38   39   40      41  \n",
       "0        0.00  0.00  0.0  0.00  0.0  0.0  normal  \n",
       "1        1.00  0.00  0.0  0.00  0.0  0.0  normal  \n",
       "2        0.50  0.00  0.0  0.00  0.0  0.0  normal  \n",
       "3        0.33  0.00  0.0  0.00  0.0  0.0  normal  \n",
       "4        0.25  0.00  0.0  0.00  0.0  0.0  normal  \n",
       "...       ...   ...  ...   ...  ...  ...     ...  \n",
       "4898426  0.33  0.05  0.0  0.01  0.0  0.0  normal  \n",
       "4898427  0.25  0.05  0.0  0.01  0.0  0.0  normal  \n",
       "4898428  0.20  0.05  0.0  0.01  0.0  0.0  normal  \n",
       "4898429  0.17  0.05  0.0  0.01  0.0  0.0  normal  \n",
       "4898430  0.14  0.05  0.0  0.01  0.0  0.0  normal  \n",
       "\n",
       "[4898431 rows x 42 columns]"
      ]
     },
     "execution_count": 12,
     "metadata": {},
     "output_type": "execute_result"
    }
   ],
   "source": [
    "df = pd.read_csv(base_dir, header=None)\n",
    "df[41] = [i[:-1] for i in df[41].values]\n",
    "df"
   ]
  },
  {
   "cell_type": "code",
   "execution_count": 29,
   "metadata": {},
   "outputs": [],
   "source": [
    "from sklearn.decomposition import PCA\n",
    "\n",
    "for i in cat_attrs:\n",
    "    df[i], _ = df[i].factorize()\n",
    "\n",
    "pca = PCA(n_components=0.95)\n",
    "df = pca.fit_transform(df)"
   ]
  },
  {
   "cell_type": "code",
   "execution_count": 34,
   "metadata": {},
   "outputs": [
    {
     "data": {
      "text/plain": [
       "4898431"
      ]
     },
     "execution_count": 34,
     "metadata": {},
     "output_type": "execute_result"
    }
   ],
   "source": []
  },
  {
   "cell_type": "code",
   "execution_count": 14,
   "metadata": {},
   "outputs": [
    {
     "data": {
      "text/plain": [
       "PCA(copy=True, iterated_power='auto', n_components=None, random_state=None,\n",
       "    svd_solver='auto', tol=0.0, whiten=False)"
      ]
     },
     "execution_count": 14,
     "metadata": {},
     "output_type": "execute_result"
    }
   ],
   "source": [
    "from sklearn.decomposition import PCA\n",
    "\n",
    "for i in cat_attrs:\n",
    "    df[i], _ = df[i].factorize()\n",
    "\n",
    "pca = PCA()\n",
    "pca.fit(df)"
   ]
  },
  {
   "cell_type": "code",
   "execution_count": 28,
   "metadata": {},
   "outputs": [
    {
     "name": "stdout",
     "output_type": "stream",
     "text": [
      "Help on function cumsum in module numpy:\n",
      "\n",
      "cumsum(a, axis=None, dtype=None, out=None)\n",
      "    Return the cumulative sum of the elements along a given axis.\n",
      "    \n",
      "    Parameters\n",
      "    ----------\n",
      "    a : array_like\n",
      "        Input array.\n",
      "    axis : int, optional\n",
      "        Axis along which the cumulative sum is computed. The default\n",
      "        (None) is to compute the cumsum over the flattened array.\n",
      "    dtype : dtype, optional\n",
      "        Type of the returned array and of the accumulator in which the\n",
      "        elements are summed.  If `dtype` is not specified, it defaults\n",
      "        to the dtype of `a`, unless `a` has an integer dtype with a\n",
      "        precision less than that of the default platform integer.  In\n",
      "        that case, the default platform integer is used.\n",
      "    out : ndarray, optional\n",
      "        Alternative output array in which to place the result. It must\n",
      "        have the same shape and buffer length as the expected output\n",
      "        but the type will be cast if necessary. See `doc.ufuncs`\n",
      "        (Section \"Output arguments\") for more details.\n",
      "    \n",
      "    Returns\n",
      "    -------\n",
      "    cumsum_along_axis : ndarray.\n",
      "        A new array holding the result is returned unless `out` is\n",
      "        specified, in which case a reference to `out` is returned. The\n",
      "        result has the same size as `a`, and the same shape as `a` if\n",
      "        `axis` is not None or `a` is a 1-d array.\n",
      "    \n",
      "    \n",
      "    See Also\n",
      "    --------\n",
      "    sum : Sum array elements.\n",
      "    \n",
      "    trapz : Integration of array values using the composite trapezoidal rule.\n",
      "    \n",
      "    diff :  Calculate the n-th discrete difference along given axis.\n",
      "    \n",
      "    Notes\n",
      "    -----\n",
      "    Arithmetic is modular when using integer types, and no error is\n",
      "    raised on overflow.\n",
      "    \n",
      "    Examples\n",
      "    --------\n",
      "    >>> a = np.array([[1,2,3], [4,5,6]])\n",
      "    >>> a\n",
      "    array([[1, 2, 3],\n",
      "           [4, 5, 6]])\n",
      "    >>> np.cumsum(a)\n",
      "    array([ 1,  3,  6, 10, 15, 21])\n",
      "    >>> np.cumsum(a, dtype=float)     # specifies type of output value(s)\n",
      "    array([  1.,   3.,   6.,  10.,  15.,  21.])\n",
      "    \n",
      "    >>> np.cumsum(a,axis=0)      # sum over rows for each of the 3 columns\n",
      "    array([[1, 2, 3],\n",
      "           [5, 7, 9]])\n",
      "    >>> np.cumsum(a,axis=1)      # sum over columns for each of the 2 rows\n",
      "    array([[ 1,  3,  6],\n",
      "           [ 4,  9, 15]])\n",
      "\n"
     ]
    }
   ],
   "source": [
    "import numpy as np\n",
    "\n",
    "cumsum = np.cumsum(pca.explained_variance_ratio_)\n",
    "d = np.argmax(cumsum >= 0.95) + 1\n",
    "\n",
    "d"
   ]
  },
  {
   "cell_type": "code",
   "execution_count": 27,
   "metadata": {},
   "outputs": [
    {
     "data": {
      "text/plain": [
       "[<matplotlib.lines.Line2D at 0x7fa05a95b9d0>]"
      ]
     },
     "execution_count": 27,
     "metadata": {},
     "output_type": "execute_result"
    },
    {
     "data": {
      "image/png": "[encoded data removed]",
      "text/plain": [
       "<Figure size 432x288 with 1 Axes>"
      ]
     },
     "metadata": {
      "needs_background": "light"
     },
     "output_type": "display_data"
    }
   ],
   "source": [
    "plt.plot(cumsum)"
   ]
  },
  {
   "cell_type": "code",
   "execution_count": 91,
   "metadata": {},
   "outputs": [
    {
     "name": "stdout",
     "output_type": "stream",
     "text": [
      "0    2833545\n",
      "1    1870598\n",
      "2     194288\n",
      "Name: 1, dtype: int64\n",
      "\n",
      "0     2811660\n",
      "1     1100831\n",
      "2      623091\n",
      "3       96554\n",
      "4       72653\n",
      "       ...   \n",
      "65          3\n",
      "67          2\n",
      "68          2\n",
      "66          2\n",
      "69          1\n",
      "Name: 2, Length: 70, dtype: int64\n",
      "\n",
      "0     3744328\n",
      "1      869829\n",
      "2      268874\n",
      "3        8094\n",
      "4        5344\n",
      "5        1040\n",
      "6         532\n",
      "7         161\n",
      "8         122\n",
      "9          57\n",
      "10         50\n",
      "Name: 3, dtype: int64\n",
      "\n",
      "smurf              2807886\n",
      "neptune            1072017\n",
      "normal              972781\n",
      "satan                15892\n",
      "ipsweep              12481\n",
      "portsweep            10413\n",
      "nmap                  2316\n",
      "back                  2203\n",
      "warezclient           1020\n",
      "teardrop               979\n",
      "pod                    264\n",
      "guess_passwd            53\n",
      "buffer_overflow         30\n",
      "land                    21\n",
      "warezmaster             20\n",
      "imap                    12\n",
      "rootkit                 10\n",
      "loadmodule               9\n",
      "ftp_write                8\n",
      "multihop                 7\n",
      "phf                      4\n",
      "perl                     3\n",
      "spy                      2\n",
      "Name: 41, dtype: int64\n",
      "\n"
     ]
    }
   ],
   "source": [
    "for i in (1, 2, 3, 41):\n",
    "    print(df[i].value_counts(), end='\\n\\n')"
   ]
  },
  {
   "cell_type": "code",
   "execution_count": 13,
   "metadata": {},
   "outputs": [
    {
     "data": {
      "text/html": [
       "<div>\n",
       "<style scoped>\n",
       "    .dataframe tbody tr th:only-of-type {\n",
       "        vertical-align: middle;\n",
       "    }\n",
       "\n",
       "    .dataframe tbody tr th {\n",
       "        vertical-align: top;\n",
       "    }\n",
       "\n",
       "    .dataframe thead th {\n",
       "        text-align: right;\n",
       "    }\n",
       "</style>\n",
       "<table border=\"1\" class=\"dataframe\">\n",
       "  <thead>\n",
       "    <tr style=\"text-align: right;\">\n",
       "      <th></th>\n",
       "      <th>0</th>\n",
       "      <th>1</th>\n",
       "      <th>2</th>\n",
       "      <th>3</th>\n",
       "      <th>4</th>\n",
       "      <th>5</th>\n",
       "      <th>6</th>\n",
       "      <th>7</th>\n",
       "      <th>8</th>\n",
       "      <th>9</th>\n",
       "      <th>...</th>\n",
       "      <th>32</th>\n",
       "      <th>33</th>\n",
       "      <th>34</th>\n",
       "      <th>35</th>\n",
       "      <th>36</th>\n",
       "      <th>37</th>\n",
       "      <th>38</th>\n",
       "      <th>39</th>\n",
       "      <th>40</th>\n",
       "      <th>41</th>\n",
       "    </tr>\n",
       "  </thead>\n",
       "  <tbody>\n",
       "    <tr>\n",
       "      <th>0</th>\n",
       "      <td>0</td>\n",
       "      <td>1</td>\n",
       "      <td>2</td>\n",
       "      <td>0</td>\n",
       "      <td>215</td>\n",
       "      <td>45076</td>\n",
       "      <td>0</td>\n",
       "      <td>0</td>\n",
       "      <td>0</td>\n",
       "      <td>0</td>\n",
       "      <td>...</td>\n",
       "      <td>0</td>\n",
       "      <td>0.0</td>\n",
       "      <td>0.0</td>\n",
       "      <td>0.00</td>\n",
       "      <td>0.00</td>\n",
       "      <td>0.0</td>\n",
       "      <td>0.00</td>\n",
       "      <td>0.0</td>\n",
       "      <td>0.0</td>\n",
       "      <td>normal</td>\n",
       "    </tr>\n",
       "    <tr>\n",
       "      <th>1</th>\n",
       "      <td>0</td>\n",
       "      <td>1</td>\n",
       "      <td>2</td>\n",
       "      <td>0</td>\n",
       "      <td>162</td>\n",
       "      <td>4528</td>\n",
       "      <td>0</td>\n",
       "      <td>0</td>\n",
       "      <td>0</td>\n",
       "      <td>0</td>\n",
       "      <td>...</td>\n",
       "      <td>1</td>\n",
       "      <td>1.0</td>\n",
       "      <td>0.0</td>\n",
       "      <td>1.00</td>\n",
       "      <td>0.00</td>\n",
       "      <td>0.0</td>\n",
       "      <td>0.00</td>\n",
       "      <td>0.0</td>\n",
       "      <td>0.0</td>\n",
       "      <td>normal</td>\n",
       "    </tr>\n",
       "    <tr>\n",
       "      <th>2</th>\n",
       "      <td>0</td>\n",
       "      <td>1</td>\n",
       "      <td>2</td>\n",
       "      <td>0</td>\n",
       "      <td>236</td>\n",
       "      <td>1228</td>\n",
       "      <td>0</td>\n",
       "      <td>0</td>\n",
       "      <td>0</td>\n",
       "      <td>0</td>\n",
       "      <td>...</td>\n",
       "      <td>2</td>\n",
       "      <td>1.0</td>\n",
       "      <td>0.0</td>\n",
       "      <td>0.50</td>\n",
       "      <td>0.00</td>\n",
       "      <td>0.0</td>\n",
       "      <td>0.00</td>\n",
       "      <td>0.0</td>\n",
       "      <td>0.0</td>\n",
       "      <td>normal</td>\n",
       "    </tr>\n",
       "    <tr>\n",
       "      <th>3</th>\n",
       "      <td>0</td>\n",
       "      <td>1</td>\n",
       "      <td>2</td>\n",
       "      <td>0</td>\n",
       "      <td>233</td>\n",
       "      <td>2032</td>\n",
       "      <td>0</td>\n",
       "      <td>0</td>\n",
       "      <td>0</td>\n",
       "      <td>0</td>\n",
       "      <td>...</td>\n",
       "      <td>3</td>\n",
       "      <td>1.0</td>\n",
       "      <td>0.0</td>\n",
       "      <td>0.33</td>\n",
       "      <td>0.00</td>\n",
       "      <td>0.0</td>\n",
       "      <td>0.00</td>\n",
       "      <td>0.0</td>\n",
       "      <td>0.0</td>\n",
       "      <td>normal</td>\n",
       "    </tr>\n",
       "    <tr>\n",
       "      <th>4</th>\n",
       "      <td>0</td>\n",
       "      <td>1</td>\n",
       "      <td>2</td>\n",
       "      <td>0</td>\n",
       "      <td>239</td>\n",
       "      <td>486</td>\n",
       "      <td>0</td>\n",
       "      <td>0</td>\n",
       "      <td>0</td>\n",
       "      <td>0</td>\n",
       "      <td>...</td>\n",
       "      <td>4</td>\n",
       "      <td>1.0</td>\n",
       "      <td>0.0</td>\n",
       "      <td>0.25</td>\n",
       "      <td>0.00</td>\n",
       "      <td>0.0</td>\n",
       "      <td>0.00</td>\n",
       "      <td>0.0</td>\n",
       "      <td>0.0</td>\n",
       "      <td>normal</td>\n",
       "    </tr>\n",
       "    <tr>\n",
       "      <th>...</th>\n",
       "      <td>...</td>\n",
       "      <td>...</td>\n",
       "      <td>...</td>\n",
       "      <td>...</td>\n",
       "      <td>...</td>\n",
       "      <td>...</td>\n",
       "      <td>...</td>\n",
       "      <td>...</td>\n",
       "      <td>...</td>\n",
       "      <td>...</td>\n",
       "      <td>...</td>\n",
       "      <td>...</td>\n",
       "      <td>...</td>\n",
       "      <td>...</td>\n",
       "      <td>...</td>\n",
       "      <td>...</td>\n",
       "      <td>...</td>\n",
       "      <td>...</td>\n",
       "      <td>...</td>\n",
       "      <td>...</td>\n",
       "      <td>...</td>\n",
       "    </tr>\n",
       "    <tr>\n",
       "      <th>4898426</th>\n",
       "      <td>0</td>\n",
       "      <td>1</td>\n",
       "      <td>2</td>\n",
       "      <td>0</td>\n",
       "      <td>212</td>\n",
       "      <td>2288</td>\n",
       "      <td>0</td>\n",
       "      <td>0</td>\n",
       "      <td>0</td>\n",
       "      <td>0</td>\n",
       "      <td>...</td>\n",
       "      <td>255</td>\n",
       "      <td>1.0</td>\n",
       "      <td>0.0</td>\n",
       "      <td>0.33</td>\n",
       "      <td>0.05</td>\n",
       "      <td>0.0</td>\n",
       "      <td>0.01</td>\n",
       "      <td>0.0</td>\n",
       "      <td>0.0</td>\n",
       "      <td>normal</td>\n",
       "    </tr>\n",
       "    <tr>\n",
       "      <th>4898427</th>\n",
       "      <td>0</td>\n",
       "      <td>1</td>\n",
       "      <td>2</td>\n",
       "      <td>0</td>\n",
       "      <td>219</td>\n",
       "      <td>236</td>\n",
       "      <td>0</td>\n",
       "      <td>0</td>\n",
       "      <td>0</td>\n",
       "      <td>0</td>\n",
       "      <td>...</td>\n",
       "      <td>255</td>\n",
       "      <td>1.0</td>\n",
       "      <td>0.0</td>\n",
       "      <td>0.25</td>\n",
       "      <td>0.05</td>\n",
       "      <td>0.0</td>\n",
       "      <td>0.01</td>\n",
       "      <td>0.0</td>\n",
       "      <td>0.0</td>\n",
       "      <td>normal</td>\n",
       "    </tr>\n",
       "    <tr>\n",
       "      <th>4898428</th>\n",
       "      <td>0</td>\n",
       "      <td>1</td>\n",
       "      <td>2</td>\n",
       "      <td>0</td>\n",
       "      <td>218</td>\n",
       "      <td>3610</td>\n",
       "      <td>0</td>\n",
       "      <td>0</td>\n",
       "      <td>0</td>\n",
       "      <td>0</td>\n",
       "      <td>...</td>\n",
       "      <td>255</td>\n",
       "      <td>1.0</td>\n",
       "      <td>0.0</td>\n",
       "      <td>0.20</td>\n",
       "      <td>0.05</td>\n",
       "      <td>0.0</td>\n",
       "      <td>0.01</td>\n",
       "      <td>0.0</td>\n",
       "      <td>0.0</td>\n",
       "      <td>normal</td>\n",
       "    </tr>\n",
       "    <tr>\n",
       "      <th>4898429</th>\n",
       "      <td>0</td>\n",
       "      <td>1</td>\n",
       "      <td>2</td>\n",
       "      <td>0</td>\n",
       "      <td>219</td>\n",
       "      <td>1234</td>\n",
       "      <td>0</td>\n",
       "      <td>0</td>\n",
       "      <td>0</td>\n",
       "      <td>0</td>\n",
       "      <td>...</td>\n",
       "      <td>255</td>\n",
       "      <td>1.0</td>\n",
       "      <td>0.0</td>\n",
       "      <td>0.17</td>\n",
       "      <td>0.05</td>\n",
       "      <td>0.0</td>\n",
       "      <td>0.01</td>\n",
       "      <td>0.0</td>\n",
       "      <td>0.0</td>\n",
       "      <td>normal</td>\n",
       "    </tr>\n",
       "    <tr>\n",
       "      <th>4898430</th>\n",
       "      <td>0</td>\n",
       "      <td>1</td>\n",
       "      <td>2</td>\n",
       "      <td>0</td>\n",
       "      <td>219</td>\n",
       "      <td>1098</td>\n",
       "      <td>0</td>\n",
       "      <td>0</td>\n",
       "      <td>0</td>\n",
       "      <td>0</td>\n",
       "      <td>...</td>\n",
       "      <td>255</td>\n",
       "      <td>1.0</td>\n",
       "      <td>0.0</td>\n",
       "      <td>0.14</td>\n",
       "      <td>0.05</td>\n",
       "      <td>0.0</td>\n",
       "      <td>0.01</td>\n",
       "      <td>0.0</td>\n",
       "      <td>0.0</td>\n",
       "      <td>normal</td>\n",
       "    </tr>\n",
       "  </tbody>\n",
       "</table>\n",
       "<p>4898431 rows × 42 columns</p>\n",
       "</div>"
      ],
      "text/plain": [
       "         0   1   2   3    4      5   6   7   8   9   ...   32   33   34    35  \\\n",
       "0         0   1   2   0  215  45076   0   0   0   0  ...    0  0.0  0.0  0.00   \n",
       "1         0   1   2   0  162   4528   0   0   0   0  ...    1  1.0  0.0  1.00   \n",
       "2         0   1   2   0  236   1228   0   0   0   0  ...    2  1.0  0.0  0.50   \n",
       "3         0   1   2   0  233   2032   0   0   0   0  ...    3  1.0  0.0  0.33   \n",
       "4         0   1   2   0  239    486   0   0   0   0  ...    4  1.0  0.0  0.25   \n",
       "...      ..  ..  ..  ..  ...    ...  ..  ..  ..  ..  ...  ...  ...  ...   ...   \n",
       "4898426   0   1   2   0  212   2288   0   0   0   0  ...  255  1.0  0.0  0.33   \n",
       "4898427   0   1   2   0  219    236   0   0   0   0  ...  255  1.0  0.0  0.25   \n",
       "4898428   0   1   2   0  218   3610   0   0   0   0  ...  255  1.0  0.0  0.20   \n",
       "4898429   0   1   2   0  219   1234   0   0   0   0  ...  255  1.0  0.0  0.17   \n",
       "4898430   0   1   2   0  219   1098   0   0   0   0  ...  255  1.0  0.0  0.14   \n",
       "\n",
       "           36   37    38   39   40      41  \n",
       "0        0.00  0.0  0.00  0.0  0.0  normal  \n",
       "1        0.00  0.0  0.00  0.0  0.0  normal  \n",
       "2        0.00  0.0  0.00  0.0  0.0  normal  \n",
       "3        0.00  0.0  0.00  0.0  0.0  normal  \n",
       "4        0.00  0.0  0.00  0.0  0.0  normal  \n",
       "...       ...  ...   ...  ...  ...     ...  \n",
       "4898426  0.05  0.0  0.01  0.0  0.0  normal  \n",
       "4898427  0.05  0.0  0.01  0.0  0.0  normal  \n",
       "4898428  0.05  0.0  0.01  0.0  0.0  normal  \n",
       "4898429  0.05  0.0  0.01  0.0  0.0  normal  \n",
       "4898430  0.05  0.0  0.01  0.0  0.0  normal  \n",
       "\n",
       "[4898431 rows x 42 columns]"
      ]
     },
     "execution_count": 13,
     "metadata": {},
     "output_type": "execute_result"
    }
   ],
   "source": [
    "for i in (1, 2, 3):\n",
    "    classes_list = list(dict(df[i].value_counts()).keys())\n",
    "    classes = {c: i for i, c in enumerate(classes_list)}\n",
    "    df[i] = df[i].apply(lambda x: classes[x])\n",
    "df"
   ]
  },
  {
   "cell_type": "code",
   "execution_count": 15,
   "metadata": {},
   "outputs": [
    {
     "data": {
      "text/plain": [
       "255    3363886\n",
       "1       117468\n",
       "2        70459\n",
       "3        58016\n",
       "4        55638\n",
       "        ...   \n",
       "199        610\n",
       "202        607\n",
       "207        547\n",
       "206        523\n",
       "0           33\n",
       "Name: 32, Length: 256, dtype: int64"
      ]
     },
     "execution_count": 15,
     "metadata": {},
     "output_type": "execute_result"
    },
    {
     "data": {
      "image/png": "[encoded data removed]",
      "text/plain": [
       "<Figure size 1008x1152 with 1 Axes>"
      ]
     },
     "metadata": {
      "needs_background": "light"
     },
     "output_type": "display_data"
    }
   ],
   "source": [
    "df[32].hist(figsize=(14, 16))\n",
    "df[32].value_counts()\n",
    "#plt.show()"
   ]
  },
  {
   "cell_type": "code",
   "execution_count": 16,
   "metadata": {},
   "outputs": [],
   "source": [
    "#from pandas.plotting import scatter_matrix\n",
    "#attrs = [1, 4]\n",
    "#df.plot(kind='scatter', x=1, y=4, figsize=(14, 16))"
   ]
  },
  {
   "cell_type": "code",
   "execution_count": 15,
   "metadata": {},
   "outputs": [
    {
     "name": "stdout",
     "output_type": "stream",
     "text": [
      "+-------+----------------+--------+\n",
      "|Class  |Attack type     |Count   |\n",
      "+-------+----------------+--------+\n",
      "|dos    |smurf           |2807886 |\n",
      "+-------+----------------+--------+\n",
      "|dos    |neptune         |1072017 |\n",
      "+-------+----------------+--------+\n",
      "|normal |normal          |972781  |\n",
      "+-------+----------------+--------+\n",
      "|probe  |satan           |15892   |\n",
      "+-------+----------------+--------+\n",
      "|probe  |ipsweep         |12481   |\n",
      "+-------+----------------+--------+\n",
      "|probe  |portsweep       |10413   |\n",
      "+-------+----------------+--------+\n",
      "|probe  |nmap            |2316    |\n",
      "+-------+----------------+--------+\n",
      "|dos    |back            |2203    |\n",
      "+-------+----------------+--------+\n",
      "|r2l    |warezclient     |1020    |\n",
      "+-------+----------------+--------+\n",
      "|dos    |teardrop        |979     |\n",
      "+-------+----------------+--------+\n",
      "|dos    |pod             |264     |\n",
      "+-------+----------------+--------+\n",
      "|r2l    |guess_passwd    |53      |\n",
      "+-------+----------------+--------+\n",
      "|u2r    |buffer_overflow |30      |\n",
      "+-------+----------------+--------+\n",
      "|dos    |land            |21      |\n",
      "+-------+----------------+--------+\n",
      "|r2l    |warezmaster     |20      |\n",
      "+-------+----------------+--------+\n",
      "|r2l    |imap            |12      |\n",
      "+-------+----------------+--------+\n",
      "|u2r    |rootkit         |10      |\n",
      "+-------+----------------+--------+\n",
      "|u2r    |loadmodule      |9       |\n",
      "+-------+----------------+--------+\n",
      "|r2l    |ftp_write       |8       |\n",
      "+-------+----------------+--------+\n",
      "|r2l    |multihop        |7       |\n",
      "+-------+----------------+--------+\n",
      "|r2l    |phf             |4       |\n",
      "+-------+----------------+--------+\n",
      "|u2r    |perl            |3       |\n",
      "+-------+----------------+--------+\n",
      "|r2l    |spy             |2       |\n",
      "+-------+----------------+--------+\n"
     ]
    }
   ],
   "source": [
    "#from sklearn.preprocessing import OneHotEncoder\n",
    "#encoder = OneHotEncoder()\n",
    "#for i in (1, 2, 3, 41):\n",
    "#    data_column = df.drop(i, axis=1).values\n",
    "#    df[i] = encoder.fit_transform(data_column.reshape(-1, 1))\n",
    "value_counts_dict = df[41].value_counts()\n",
    "print('+', '-' * 7, '+', '-' * 16, '+', '-' * 8, '+', sep='')\n",
    "print('|%-6s |%-15s |%-7s |' % ('Class', \"Attack type\", 'Count'))\n",
    "print('+', '-' * 7, '+', '-' * 16, '+', '-' * 8, '+', sep='')\n",
    "for (count, attack_type) in zip(value_counts_dict, value_counts_dict.keys()):\n",
    "    print('|%-6s |%-15s |%-7d |' % (attack_types_dict[attack_type], attack_type, count))\n",
    "    print('+', '-' * 7, '+', '-' * 16, '+', '-' * 8, '+', sep='')"
   ]
  },
  {
   "cell_type": "code",
   "execution_count": 16,
   "metadata": {},
   "outputs": [
    {
     "data": {
      "image/png": "[encoded data removed]",
      "text/plain": [
       "<Figure size 360x360 with 1 Axes>"
      ]
     },
     "metadata": {
      "needs_background": "light"
     },
     "output_type": "display_data"
    },
    {
     "data": {
      "image/png": "[encoded data removed]",
      "text/plain": [
       "<Figure size 360x360 with 1 Axes>"
      ]
     },
     "metadata": {
      "needs_background": "light"
     },
     "output_type": "display_data"
    },
    {
     "data": {
      "image/png": "[encoded data removed]",
      "text/plain": [
       "<Figure size 360x360 with 1 Axes>"
      ]
     },
     "metadata": {
      "needs_background": "light"
     },
     "output_type": "display_data"
    },
    {
     "data": {
      "image/png": "[encoded data removed]",
      "text/plain": [
       "<Figure size 360x360 with 1 Axes>"
      ]
     },
     "metadata": {
      "needs_background": "light"
     },
     "output_type": "display_data"
    }
   ],
   "source": [
    "for i in (0, 1, 2, 3):\n",
    "    df[i].hist(figsize=(5, 5))\n",
    "    plt.suptitle(features[i])\n",
    "    plt.show()"
   ]
  },
  {
   "cell_type": "code",
   "execution_count": 18,
   "metadata": {},
   "outputs": [
    {
     "data": {
      "text/plain": [
       "smurf              2807886\n",
       "neptune            1072017\n",
       "normal              972781\n",
       "satan                15892\n",
       "ipsweep              12481\n",
       "portsweep            10413\n",
       "nmap                  2316\n",
       "back                  2203\n",
       "warezclient           1020\n",
       "teardrop               979\n",
       "pod                    264\n",
       "guess_passwd            53\n",
       "buffer_overflow         30\n",
       "land                    21\n",
       "warezmaster             20\n",
       "imap                    12\n",
       "rootkit                 10\n",
       "loadmodule               9\n",
       "ftp_write                8\n",
       "multihop                 7\n",
       "phf                      4\n",
       "perl                     3\n",
       "spy                      2\n",
       "Name: 41, dtype: int64"
      ]
     },
     "execution_count": 18,
     "metadata": {},
     "output_type": "execute_result"
    }
   ],
   "source": [
    "df[41].value_counts()"
   ]
  },
  {
   "cell_type": "code",
   "execution_count": 266,
   "metadata": {},
   "outputs": [
    {
     "name": "stdout",
     "output_type": "stream",
     "text": [
      "train_df:  7000 \n",
      "test_df:   2000 \n",
      "val_df:    750\n"
     ]
    }
   ],
   "source": [
    "TRAIN_NUM = 700\n",
    "TEST_NUM = 200\n",
    "\n",
    "classes = ['smurf', 'neptune', 'normal', 'satan', 'ipsweep',\n",
    "           'portsweep', 'nmap', 'back', 'warezclient', 'teardrop']\n",
    "\n",
    "train_df = df[df[41]==classes[0]][:TRAIN_NUM]\n",
    "test_df = df[df[41]==classes[0]][TRAIN_NUM:TRAIN_NUM+TEST_NUM]\n",
    "val_df = df[df[41]==classes[0]][TRAIN_NUM+TEST_NUM:975]\n",
    "\n",
    "for _class in classes[1:]:\n",
    "    train_df = train_df.merge(df[df[41]==_class][:TRAIN_NUM], how='outer')\n",
    "    test_df = test_df.merge(df[df[41]==_class][TRAIN_NUM:TRAIN_NUM+TEST_NUM], how='outer')\n",
    "    val_df = val_df.merge(df[df[41]==_class][TRAIN_NUM+TEST_NUM:975], how='outer')\n",
    "print('train_df: ', len(train_df), '\\ntest_df:  ', len(test_df), '\\nval_df:   ', len(val_df))"
   ]
  },
  {
   "cell_type": "code",
   "execution_count": 267,
   "metadata": {},
   "outputs": [
    {
     "data": {
      "text/plain": [
       "back           700\n",
       "warezclient    700\n",
       "portsweep      700\n",
       "nmap           700\n",
       "smurf          700\n",
       "teardrop       700\n",
       "ipsweep        700\n",
       "satan          700\n",
       "normal         700\n",
       "neptune        700\n",
       "Name: 41, dtype: int64"
      ]
     },
     "execution_count": 267,
     "metadata": {},
     "output_type": "execute_result"
    }
   ],
   "source": [
    "train_df[41].value_counts()"
   ]
  },
  {
   "cell_type": "code",
   "execution_count": 15,
   "metadata": {},
   "outputs": [
    {
     "data": {
      "text/plain": [
       "RandomForestClassifier(bootstrap=True, class_weight=None, criterion='gini',\n",
       "                       max_depth=None, max_features='auto', max_leaf_nodes=None,\n",
       "                       min_impurity_decrease=0.0, min_impurity_split=None,\n",
       "                       min_samples_leaf=1, min_samples_split=2,\n",
       "                       min_weight_fraction_leaf=0.0, n_estimators=500,\n",
       "                       n_jobs=-1, oob_score=False, random_state=None, verbose=0,\n",
       "                       warm_start=False)"
      ]
     },
     "execution_count": 15,
     "metadata": {},
     "output_type": "execute_result"
    }
   ],
   "source": [
    "from sklearn.ensemble import RandomForestClassifier\n",
    "\n",
    "rnd_clf = RandomForestClassifier(n_estimators=500, n_jobs=-1)\n",
    "data = train_df.copy()\n",
    "target = data.pop(41)\n",
    "rnd_clf.fit(data, target)"
   ]
  },
  {
   "cell_type": "code",
   "execution_count": 16,
   "metadata": {},
   "outputs": [
    {
     "data": {
      "text/plain": [
       "1.0"
      ]
     },
     "execution_count": 16,
     "metadata": {},
     "output_type": "execute_result"
    }
   ],
   "source": [
    "from sklearn.metrics import accuracy_score\n",
    "\n",
    "data = test_df.copy()\n",
    "target = data.pop(41)\n",
    "test_predicted = rnd_clf.predict(data)\n",
    "accuracy_score(target, test_predicted)"
   ]
  },
  {
   "cell_type": "code",
   "execution_count": 17,
   "metadata": {},
   "outputs": [
    {
     "data": {
      "text/plain": [
       "0.932"
      ]
     },
     "execution_count": 17,
     "metadata": {},
     "output_type": "execute_result"
    }
   ],
   "source": [
    "data = val_df.copy()\n",
    "target = data.pop(41)\n",
    "test_predicted = rnd_clf.predict(data)\n",
    "accuracy_score(target, test_predicted)"
   ]
  },
  {
   "cell_type": "code",
   "execution_count": 18,
   "metadata": {},
   "outputs": [
    {
     "name": "stdout",
     "output_type": "stream",
     "text": [
      "0  duration                    : 0.32359199035963016 %\n",
      "1  protocol_type               : 5.065681373296267 %\n",
      "2  service                     : 7.139552570589022 %\n",
      "3  flag                        : 5.05611580765993 %\n",
      "4  src_bytes                   : 7.994569328800219 %\n",
      "5  dst_bytes                   : 3.2221180175905437 %\n",
      "6  land                        : 0.0 %\n",
      "7  wrong_fragment              : 4.161751392668244 %\n",
      "8  urgent                      : 0.0 %\n",
      "9  hot                         : 1.1540446166150968 %\n",
      "10 num_failed_logins           : 0.0 %\n",
      "11 logged_in                   : 3.7526721099817104 %\n",
      "12 num_compromised             : 3.0496164278748834 %\n",
      "13 root_shell                  : 0.0 %\n",
      "14 su_attempted                : 0.0 %\n",
      "15 num_root                    : 0.0015545476367481265 %\n",
      "16 num_file_creations          : 0.0020542240613386957 %\n",
      "17 num_shells                  : 6.272426350135718e-07 %\n",
      "18 num_access_files            : 5.724720135746451e-07 %\n",
      "19 num_outbound_cmds           : 0.0 %\n",
      "20 is_host_login               : 0.0 %\n",
      "21 is_guest_login              : 0.2168829661062925 %\n",
      "22 count                       : 4.920859356322314 %\n",
      "23 srv_count                   : 4.612107528685078 %\n",
      "24 serror_rate                 : 3.417192647140515 %\n",
      "25 srv_serror_rate             : 1.2797759371095745 %\n",
      "26 rerror_rate                 : 3.24685372222694 %\n",
      "27 srv_rerror_rate             : 0.6753331365105631 %\n",
      "28 same_srv_rate               : 1.9202243759127868 %\n",
      "29 diff_srv_rate               : 4.927071309990038 %\n",
      "30 srv_diff_host_rate          : 0.043387120810469484 %\n",
      "31 dst_host_count              : 3.866116533799385 %\n",
      "32 dst_host_srv_count          : 2.7133641306077534 %\n",
      "33 dst_host_same_srv_rate      : 3.4694476232924245 %\n",
      "34 dst_host_diff_srv_rate      : 4.508019998450486 %\n",
      "35 dst_host_same_src_port_rate : 5.693996553678795 %\n",
      "36 dst_host_srv_diff_host_rate : 1.4363360580113866 %\n",
      "37 dst_host_serror_rate        : 4.621317469125379 %\n",
      "38 dst_host_srv_serror_rate    : 1.3758785727269554 %\n",
      "39 dst_host_rerror_rate        : 3.6965218231763983 %\n",
      "40 dst_host_srv_rerror_rate    : 2.435989529468188 %\n"
     ]
    }
   ],
   "source": [
    "import numpy as np\n",
    "\n",
    "i = 0\n",
    "for (feature, importance) in zip(features_types_dict, rnd_clf.feature_importances_):\n",
    "    print('%-2d %-28s:' % (i, feature), importance * 100, '%')\n",
    "    i += 1"
   ]
  },
  {
   "cell_type": "code",
   "execution_count": 19,
   "metadata": {},
   "outputs": [
    {
     "name": "stdout",
     "output_type": "stream",
     "text": [
      "> 0.0 %:  34\n",
      "> 1.0 %:  26\n",
      "> 2.0 %:  21\n",
      "> 3.0 %:  19\n",
      "> 4.0 %:  11\n",
      "> 5.0 %:  5\n",
      "> 6.0 %:  2\n"
     ]
    }
   ],
   "source": [
    "d = {i: imp for i, imp in enumerate(rnd_clf.feature_importances_)}\n",
    "for bias in [0.00, 0.01, 0.02, 0.03, 0.04, 0.05, 0.06]:\n",
    "    print('>', bias * 100, '%: ', len(list(filter(lambda x: d[x] > bias, d))))"
   ]
  },
  {
   "cell_type": "code",
   "execution_count": 33,
   "metadata": {},
   "outputs": [
    {
     "name": "stdout",
     "output_type": "stream",
     "text": [
      "Class:  warezclient \n",
      "Predicted:  ['warezclient']\n"
     ]
    }
   ],
   "source": [
    "data = df[df[41]==classes[-2]][975:976]\n",
    "data.pop(41)\n",
    "print('Class: ', classes[-2], '\\nPredicted: ', rnd_clf.predict(data))"
   ]
  },
  {
   "cell_type": "code",
   "execution_count": 24,
   "metadata": {},
   "outputs": [],
   "source": [
    "#for i, f in enumerate(features_types_dict):\n",
    "#    print('%02d. %010s %s' % (i, features_types_dict[f], f))\n",
    "#for i in range(42):\n",
    "#    max_ = df[i].max()\n",
    "#    print(i, ': ', max_)\n",
    "#for i in (0, 4, 5, 7, 8, 9, 12, 13, 14, 15, 16, 17, 18, 22, 31, 32):\n",
    "#    max_ = df[i].max()\n",
    "#    df[i] = df[i].apply(lambda x: x / max_)\n",
    "#df[41] = df[41].apply(lambda x: target_classes[attack_types_dict[x]])"
   ]
  },
  {
   "cell_type": "code",
   "execution_count": 268,
   "metadata": {},
   "outputs": [
    {
     "name": "stdout",
     "output_type": "stream",
     "text": [
      "binary? [Y/N]: fg\n"
     ]
    }
   ],
   "source": [
    "if input('binary? [Y/N]: ') == 'Y':\n",
    "    target_classes = {'normal': 0, 'u2r': 1, 'r2l': 1, 'probe': 1, 'dos': 1}\n",
    "else:\n",
    "    target_classes = {\n",
    "        'normal': 0,\n",
    "        'u2r': 1,\n",
    "        'r2l': 2,\n",
    "        'probe': 3,\n",
    "        'dos': 4\n",
    "    }"
   ]
  },
  {
   "cell_type": "code",
   "execution_count": 269,
   "metadata": {},
   "outputs": [],
   "source": [
    "def df_to_dataset(data, main_df, label_index=41, bias = 0.05, shuffle=True, batch_size=32):\n",
    "    \"\"\"\n",
    "    Performs data preprocessing.\n",
    "    \n",
    "    param data: pandas.Dataframe\n",
    "    \"\"\"\n",
    "    df = data.copy()\n",
    "    for i in range(41):\n",
    "        if i in cat_attrs:\n",
    "            df[i], _ = df[i].factorize() # factorize catagorical features\n",
    "        if i in num_attrs:\n",
    "            max_ = main_df[i].max()\n",
    "            df[i] = train_df[i].apply(lambda x: x / max_) # normalize by minimax numeric features\n",
    "            \n",
    "    d = {feature: feature_importance for feature, feature_importance in enumerate(rnd_clf.feature_importances_)} \n",
    "    df = df.drop(list(filter(lambda x: d[x] < bias, d)), axis=1) # drop unimportance features\n",
    "\n",
    "    df[label_index] = df[label_index].apply(lambda x: target_classes[attack_types_dict[x]]) # 10 classes > 4 main classes\n",
    "    df[label_index], _ = df[label_index].factorize()\n",
    "        \n",
    "    labels = df.pop(label_index)\n",
    "    ds = tf.data.Dataset.from_tensor_slices((df.values, labels))\n",
    "    print(f'Features count: {len(df.columns)}')\n",
    "    print(labels.value_counts())\n",
    "    if shuffle:\n",
    "        ds = ds.shuffle(buffer_size=len(df))\n",
    "    ds = ds.batch(batch_size)\n",
    "    return ds\n",
    "\n",
    "def labels_to_list(data, label_index=41):\n",
    "    df = data.copy()\n",
    "    df[label_index] = df[label_index].apply(lambda x: target_classes[attack_types_dict[x]]) # 10 classes > 4 main classes\n",
    "    df[label_index], _ = df[label_index].factorize()\n",
    "    return df[41].values.tolist()"
   ]
  },
  {
   "cell_type": "code",
   "execution_count": 270,
   "metadata": {},
   "outputs": [
    {
     "data": {
      "text/plain": [
       "back           700\n",
       "warezclient    700\n",
       "portsweep      700\n",
       "nmap           700\n",
       "smurf          700\n",
       "teardrop       700\n",
       "ipsweep        700\n",
       "satan          700\n",
       "normal         700\n",
       "neptune        700\n",
       "Name: 41, dtype: int64"
      ]
     },
     "execution_count": 270,
     "metadata": {},
     "output_type": "execute_result"
    }
   ],
   "source": [
    "train_df[41].value_counts()"
   ]
  },
  {
   "cell_type": "code",
   "execution_count": 271,
   "metadata": {},
   "outputs": [],
   "source": [
    "if target_classes == {'normal': 0, 'u2r': 1, 'r2l': 1, 'probe': 1, 'dos': 1}:\n",
    "    EXTRA_NORMAL = 3800\n",
    "    EXTRA_TEST = 800\n",
    "    EXTRA_VAL = 400\n",
    "    \n",
    "else:\n",
    "    EXTRA_NORMAL = 1400\n",
    "    EXTRA_TEST = 400\n",
    "    EXTRA_VAL = 150\n",
    "\n",
    "train_df = train_df.merge(df[df[41]=='normal'][-EXTRA_NORMAL:], how='outer')\n",
    "test_df = test_df.merge(df[df[41]=='normal'][-EXTRA_TEST-EXTRA_NORMAL:-EXTRA_NORMAL], how='outer')\n",
    "val_df = val_df.merge(df[df[41]=='normal'][-EXTRA_VAL-EXTRA_TEST-EXTRA_NORMAL:-EXTRA_TEST-EXTRA_NORMAL], how='outer')"
   ]
  },
  {
   "cell_type": "code",
   "execution_count": 272,
   "metadata": {},
   "outputs": [
    {
     "data": {
      "text/plain": [
       "normal         2100\n",
       "back            700\n",
       "warezclient     700\n",
       "portsweep       700\n",
       "nmap            700\n",
       "smurf           700\n",
       "teardrop        700\n",
       "ipsweep         700\n",
       "satan           700\n",
       "neptune         700\n",
       "Name: 41, dtype: int64"
      ]
     },
     "execution_count": 272,
     "metadata": {},
     "output_type": "execute_result"
    }
   ],
   "source": [
    "train_df[41].value_counts()"
   ]
  },
  {
   "cell_type": "code",
   "execution_count": 274,
   "metadata": {},
   "outputs": [
    {
     "data": {
      "text/plain": [
       "normal         225\n",
       "ipsweep         75\n",
       "satan           75\n",
       "smurf           75\n",
       "portsweep       75\n",
       "nmap            75\n",
       "teardrop        75\n",
       "back            75\n",
       "warezclient     75\n",
       "neptune         75\n",
       "Name: 41, dtype: int64"
      ]
     },
     "execution_count": 274,
     "metadata": {},
     "output_type": "execute_result"
    }
   ],
   "source": [
    "val_df[41].value_counts()"
   ]
  },
  {
   "cell_type": "code",
   "execution_count": 227,
   "metadata": {
    "scrolled": false
   },
   "outputs": [
    {
     "name": "stdout",
     "output_type": "stream",
     "text": [
      "Features count: 14\n",
      "2    2800\n",
      "0    2800\n",
      "1    2100\n",
      "3     700\n",
      "Name: 41, dtype: int64\n",
      "Features count: 14\n",
      "1    975\n",
      "2    300\n",
      "0    300\n",
      "3     75\n",
      "Name: 41, dtype: int64\n",
      "Features count: 14\n",
      "1    900\n",
      "2    800\n",
      "0    800\n",
      "3    200\n",
      "Name: 41, dtype: int64\n"
     ]
    }
   ],
   "source": [
    "BATCH_SIZE = 32\n",
    "\n",
    "train_dataset = df_to_dataset(train_df, main_df=df, bias=0.02, batch_size=BATCH_SIZE)\n",
    "val_dataset = df_to_dataset(val_df, main_df=df, bias=0.02, batch_size=BATCH_SIZE)\n",
    "test_dataset = df_to_dataset(test_df, main_df=df, bias=0.02, batch_size=BATCH_SIZE)"
   ]
  },
  {
   "cell_type": "code",
   "execution_count": 228,
   "metadata": {},
   "outputs": [],
   "source": [
    "logdir = \"logs/scalars/\" + datetime.now().strftime(\"%Y%m%d-%H%M%S\")\n",
    "tensorboard_callback = tf.keras.callbacks.TensorBoard(log_dir=logdir)"
   ]
  },
  {
   "cell_type": "code",
   "execution_count": 293,
   "metadata": {},
   "outputs": [],
   "source": [
    "def get_compiled_model():\n",
    "    model = tf.keras.Sequential([\n",
    "        tf.keras.layers.Dense(14, activation='relu'),\n",
    "        # tf.keras.layers.BatchNormalization(),\n",
    "        tf.keras.layers.Dropout(0.5),\n",
    "        tf.keras.layers.Dense(10, activation='relu'),\n",
    "        # tf.keras.layers.BatchNormalization(),\n",
    "        tf.keras.layers.Dropout(0.3),\n",
    "        tf.keras.layers.Dense(4, activation='softmax')\n",
    "    ])\n",
    "\n",
    "    model.compile(optimizer='adam',\n",
    "                loss='sparse_categorical_crossentropy',\n",
    "                metrics=['accuracy'])\n",
    "    return model"
   ]
  },
  {
   "cell_type": "code",
   "execution_count": 294,
   "metadata": {},
   "outputs": [
    {
     "name": "stdout",
     "output_type": "stream",
     "text": [
      "WARNING:tensorflow:Layer sequential_27 is casting an input tensor from dtype float64 to the layer's dtype of float32, which is new behavior in TensorFlow 2.  The layer has dtype float32 because it's dtype defaults to floatx.\n",
      "\n",
      "If you intended to run this layer in float32, you can safely ignore this warning. If in doubt, this warning is likely only an issue if you are porting a TensorFlow 1.X model to TensorFlow 2.\n",
      "\n",
      "To change all layers to have dtype float64 by default, call `tf.keras.backend.set_floatx('float64')`. To change just this layer, pass dtype='float64' to the layer constructor. If you are the author of this layer, you can disable autocasting by passing autocast=False to the base Layer constructor.\n",
      "\n",
      "Epoch 1/30\n",
      "263/263 [==============================] - 1s 3ms/step - loss: 2.7717 - accuracy: 0.4580 - val_loss: 0.0000e+00 - val_accuracy: 0.0000e+00\n",
      "Epoch 2/30\n",
      "263/263 [==============================] - 0s 1ms/step - loss: 1.1808 - accuracy: 0.5598 - val_loss: 0.9673 - val_accuracy: 0.8164\n",
      "Epoch 3/30\n",
      "263/263 [==============================] - 0s 1ms/step - loss: 0.9440 - accuracy: 0.6061 - val_loss: 0.8723 - val_accuracy: 0.8382\n",
      "Epoch 4/30\n",
      "263/263 [==============================] - 0s 1ms/step - loss: 0.8425 - accuracy: 0.6250 - val_loss: 0.7750 - val_accuracy: 0.8418\n",
      "Epoch 5/30\n",
      "263/263 [==============================] - 0s 1ms/step - loss: 0.7567 - accuracy: 0.6627 - val_loss: 0.7356 - val_accuracy: 0.8770\n",
      "Epoch 6/30\n",
      "263/263 [==============================] - 0s 1ms/step - loss: 0.6777 - accuracy: 0.6982 - val_loss: 0.7128 - val_accuracy: 0.8885\n",
      "Epoch 7/30\n",
      "263/263 [==============================] - 0s 1ms/step - loss: 0.6715 - accuracy: 0.6979 - val_loss: 0.7235 - val_accuracy: 0.8800\n",
      "Epoch 8/30\n",
      "263/263 [==============================] - 0s 1ms/step - loss: 0.6244 - accuracy: 0.7206 - val_loss: 0.7265 - val_accuracy: 0.8939\n",
      "Epoch 9/30\n",
      "263/263 [==============================] - 0s 1ms/step - loss: 0.6011 - accuracy: 0.7361 - val_loss: 0.7361 - val_accuracy: 0.8921\n",
      "Epoch 10/30\n",
      "263/263 [==============================] - 0s 1ms/step - loss: 0.5695 - accuracy: 0.7438 - val_loss: 0.7573 - val_accuracy: 0.8836\n",
      "Epoch 11/30\n",
      "263/263 [==============================] - 0s 1ms/step - loss: 0.5578 - accuracy: 0.7475 - val_loss: 0.8071 - val_accuracy: 0.8679\n",
      "Epoch 12/30\n",
      "263/263 [==============================] - 0s 1ms/step - loss: 0.5472 - accuracy: 0.7582 - val_loss: 0.8076 - val_accuracy: 0.8836\n",
      "Epoch 13/30\n",
      "263/263 [==============================] - 0s 1ms/step - loss: 0.5238 - accuracy: 0.7732 - val_loss: 0.8624 - val_accuracy: 0.8612\n",
      "Epoch 14/30\n",
      "263/263 [==============================] - 0s 1ms/step - loss: 0.5023 - accuracy: 0.7905 - val_loss: 0.8270 - val_accuracy: 0.8921\n",
      "Epoch 15/30\n",
      "263/263 [==============================] - 0s 1ms/step - loss: 0.4864 - accuracy: 0.7914 - val_loss: 0.8740 - val_accuracy: 0.8939\n",
      "Epoch 16/30\n",
      "263/263 [==============================] - 0s 1ms/step - loss: 0.4795 - accuracy: 0.7894 - val_loss: 0.8979 - val_accuracy: 0.8867\n",
      "Epoch 17/30\n",
      "263/263 [==============================] - 0s 1ms/step - loss: 0.4592 - accuracy: 0.8055 - val_loss: 0.9366 - val_accuracy: 0.8958\n",
      "Epoch 18/30\n",
      "263/263 [==============================] - 0s 1ms/step - loss: 0.4491 - accuracy: 0.8092 - val_loss: 0.9997 - val_accuracy: 0.9018\n",
      "Epoch 19/30\n",
      "263/263 [==============================] - 0s 1ms/step - loss: 0.4324 - accuracy: 0.8094 - val_loss: 1.0344 - val_accuracy: 0.8994\n",
      "Epoch 20/30\n",
      "263/263 [==============================] - 0s 1ms/step - loss: 0.4289 - accuracy: 0.8177 - val_loss: 1.0270 - val_accuracy: 0.9139\n",
      "Epoch 21/30\n",
      "263/263 [==============================] - 0s 1ms/step - loss: 0.4081 - accuracy: 0.8305 - val_loss: 1.0565 - val_accuracy: 0.9036\n",
      "Epoch 22/30\n",
      "263/263 [==============================] - 0s 1ms/step - loss: 0.4000 - accuracy: 0.8360 - val_loss: 1.1323 - val_accuracy: 0.8915\n",
      "Epoch 23/30\n",
      "263/263 [==============================] - 0s 1ms/step - loss: 0.3910 - accuracy: 0.8365 - val_loss: 1.3481 - val_accuracy: 0.8188\n",
      "Epoch 24/30\n",
      "263/263 [==============================] - 0s 1ms/step - loss: 0.3989 - accuracy: 0.8292 - val_loss: 1.1560 - val_accuracy: 0.8921\n",
      "Epoch 25/30\n",
      "263/263 [==============================] - 0s 1ms/step - loss: 0.3956 - accuracy: 0.8329 - val_loss: 1.1394 - val_accuracy: 0.9018\n",
      "Epoch 26/30\n",
      "263/263 [==============================] - 0s 1ms/step - loss: 0.3798 - accuracy: 0.8408 - val_loss: 1.1164 - val_accuracy: 0.9018\n",
      "Epoch 27/30\n",
      "263/263 [==============================] - 0s 1ms/step - loss: 0.3795 - accuracy: 0.8442 - val_loss: 1.1654 - val_accuracy: 0.9133\n",
      "Epoch 28/30\n",
      "263/263 [==============================] - 0s 1ms/step - loss: 0.3676 - accuracy: 0.8494 - val_loss: 1.0252 - val_accuracy: 0.9048\n",
      "Epoch 29/30\n",
      "263/263 [==============================] - 0s 1ms/step - loss: 0.3591 - accuracy: 0.8498 - val_loss: 1.1233 - val_accuracy: 0.8867\n",
      "Epoch 30/30\n",
      "263/263 [==============================] - 0s 1ms/step - loss: 0.3675 - accuracy: 0.8437 - val_loss: 1.1181 - val_accuracy: 0.8933\n"
     ]
    }
   ],
   "source": [
    "model = get_compiled_model()\n",
    "epochs = 30\n",
    "history = model.fit(train_dataset, \n",
    "                    validation_data=val_dataset, \n",
    "                    use_multiprocessing=True, \n",
    "                    epochs=epochs,\n",
    "                    callbacks=[tensorboard_callback]\n",
    "                   )"
   ]
  },
  {
   "cell_type": "code",
   "execution_count": 296,
   "metadata": {},
   "outputs": [
    {
     "data": {
      "image/png": "[encoded data removed]",
      "text/plain": [
       "<Figure size 576x576 with 2 Axes>"
      ]
     },
     "metadata": {
      "needs_background": "light"
     },
     "output_type": "display_data"
    }
   ],
   "source": [
    "import matplotlib.pyplot as plt\n",
    "acc = history.history['accuracy']\n",
    "val_acc = history.history['val_accuracy']\n",
    "\n",
    "loss = history.history['loss']\n",
    "val_loss = history.history['val_loss']\n",
    "\n",
    "epochs_range = range(epochs)\n",
    "\n",
    "plt.figure(figsize=(8, 8))\n",
    "plt.subplot(1, 2, 1)\n",
    "plt.plot(epochs_range, acc, label='Training Accuracy')\n",
    "plt.plot(epochs_range, val_acc, label='Validation Accuracy')\n",
    "plt.legend(loc='lower right')\n",
    "plt.title('Training and Validation Accuracy')\n",
    "\n",
    "plt.subplot(1, 2, 2)\n",
    "plt.plot(epochs_range, loss, label='Training Loss')\n",
    "plt.plot(epochs_range, val_loss, label='Validation Loss')\n",
    "plt.legend(loc='upper right')\n",
    "plt.title('Training and Validation Loss')\n",
    "plt.show()"
   ]
  },
  {
   "cell_type": "code",
   "execution_count": 297,
   "metadata": {},
   "outputs": [
    {
     "name": "stdout",
     "output_type": "stream",
     "text": [
      "85/85 [==============================] - 0s 602us/step - loss: 0.4676 - accuracy: 0.8089\n",
      "Accuracy on test dataset: 0.8088889\n"
     ]
    }
   ],
   "source": [
    "test_loss, test_accuracy = model.evaluate(test_dataset)\n",
    "print('Accuracy on test dataset:', test_accuracy)"
   ]
  },
  {
   "cell_type": "code",
   "execution_count": 298,
   "metadata": {},
   "outputs": [
    {
     "name": "stdout",
     "output_type": "stream",
     "text": [
      "Features count: 14\n",
      "2    800\n",
      "0    800\n",
      "1    600\n",
      "3    200\n",
      "Name: 41, dtype: int64\n",
      "Confusion matrix:\n",
      " [[607 193   0   0]\n",
      " [  2 598   0   0]\n",
      " [  0   0 800   0]\n",
      " [  0 179   0  21]]\n",
      "              precision    recall  f1-score   support\n",
      "\n",
      "           0       1.00      0.76      0.86       800\n",
      "           1       0.62      1.00      0.76       600\n",
      "           2       1.00      1.00      1.00       800\n",
      "           3       1.00      0.10      0.19       200\n",
      "\n",
      "    accuracy                           0.84      2400\n",
      "   macro avg       0.90      0.72      0.70      2400\n",
      "weighted avg       0.90      0.84      0.83      2400\n",
      "\n"
     ]
    }
   ],
   "source": [
    "from sklearn.metrics import classification_report, confusion_matrix\n",
    "\n",
    "predict_labels = model.predict(df_to_dataset(test_df, main_df=df, bias=0.02, shuffle=False, batch_size=BATCH_SIZE))\n",
    "predicted_labels = [np.argmax(predict) for predict in predict_labels]\n",
    "true_labels = labels_to_list(test_df)\n",
    "print('Confusion matrix:\\n', confusion_matrix(true_labels, predicted_labels))\n",
    "print(classification_report(true_labels, predicted_labels))"
   ]
  },
  {
   "cell_type": "code",
   "execution_count": 105,
   "metadata": {},
   "outputs": [
    {
     "ename": "NameError",
     "evalue": "name 'new_test_df' is not defined",
     "output_type": "error",
     "traceback": [
      "\u001b[0;31m---------------------------------------------------------------------------\u001b[0m",
      "\u001b[0;31mNameError\u001b[0m                                 Traceback (most recent call last)",
      "\u001b[0;32m<ipython-input-105-72bba04ce14a>\u001b[0m in \u001b[0;36m<module>\u001b[0;34m\u001b[0m\n\u001b[0;32m----> 1\u001b[0;31m \u001b[0mnew_test_dataset\u001b[0m \u001b[0;34m=\u001b[0m \u001b[0mdf_to_dataset\u001b[0m\u001b[0;34m(\u001b[0m\u001b[0mnew_test_df\u001b[0m\u001b[0;34m,\u001b[0m \u001b[0mdf\u001b[0m\u001b[0;34m,\u001b[0m \u001b[0mbias\u001b[0m\u001b[0;34m=\u001b[0m\u001b[0;36m0.04\u001b[0m\u001b[0;34m)\u001b[0m\u001b[0;34m\u001b[0m\u001b[0;34m\u001b[0m\u001b[0m\n\u001b[0m\u001b[1;32m      2\u001b[0m \u001b[0mtest_loss\u001b[0m\u001b[0;34m,\u001b[0m \u001b[0mtest_accuracy\u001b[0m \u001b[0;34m=\u001b[0m \u001b[0mmodel\u001b[0m\u001b[0;34m.\u001b[0m\u001b[0mevaluate\u001b[0m\u001b[0;34m(\u001b[0m\u001b[0mnew_test_dataset\u001b[0m\u001b[0;34m)\u001b[0m\u001b[0;34m\u001b[0m\u001b[0;34m\u001b[0m\u001b[0m\n\u001b[1;32m      3\u001b[0m \u001b[0mprint\u001b[0m\u001b[0;34m(\u001b[0m\u001b[0;34m'Accuracy on test dataset:'\u001b[0m\u001b[0;34m,\u001b[0m \u001b[0mtest_accuracy\u001b[0m\u001b[0;34m)\u001b[0m\u001b[0;34m\u001b[0m\u001b[0;34m\u001b[0m\u001b[0m\n",
      "\u001b[0;31mNameError\u001b[0m: name 'new_test_df' is not defined"
     ]
    }
   ],
   "source": [
    "new_test_dataset = df_to_dataset(new_test_df, df, bias=0.04)\n",
    "test_loss, test_accuracy = model.evaluate(new_test_dataset)\n",
    "print('Accuracy on test dataset:', test_accuracy)"
   ]
  },
  {
   "cell_type": "code",
   "execution_count": 146,
   "metadata": {
    "scrolled": false
   },
   "outputs": [
    {
     "name": "stdout",
     "output_type": "stream",
     "text": [
      "Confusion matrix:\n",
      " [[ 200    0    0    0    0    0    0    0    0    0]\n",
      " [   0  200    0    0    0    0    0    0    0    0]\n",
      " [   0    0  200    0    0    0    0    0    0    0]\n",
      " [   0    0    0  200    0    0    0    0    0    0]\n",
      " [   0    2    0    0 1593    2    2    0    0    1]\n",
      " [   0    0    0    0    0  200    0    0    0    0]\n",
      " [   0    0    0    0    0    0  200    0    0    0]\n",
      " [   0    0    0    0    0    0    0  200    0    0]\n",
      " [   0    0    0    0    0    0    0    0  200    0]\n",
      " [   0    0    0    0    0    0    0    0    0  200]]\n",
      "              precision    recall  f1-score   support\n",
      "\n",
      "        back       1.00      1.00      1.00       200\n",
      "     ipsweep       0.99      1.00      1.00       200\n",
      "     neptune       1.00      1.00      1.00       200\n",
      "        nmap       1.00      1.00      1.00       200\n",
      "      normal       1.00      1.00      1.00      1600\n",
      "   portsweep       0.99      1.00      1.00       200\n",
      "       satan       0.99      1.00      1.00       200\n",
      "       smurf       1.00      1.00      1.00       200\n",
      "    teardrop       1.00      1.00      1.00       200\n",
      " warezclient       1.00      1.00      1.00       200\n",
      "\n",
      "    accuracy                           1.00      3400\n",
      "   macro avg       1.00      1.00      1.00      3400\n",
      "weighted avg       1.00      1.00      1.00      3400\n",
      "\n"
     ]
    }
   ],
   "source": [
    "from sklearn.metrics import accuracy_score\n",
    "\n",
    "data = test_df.copy()\n",
    "true_labels = data.pop(41)\n",
    "predicted_labels = rnd_clf.predict(data)\n",
    "#accuracy_score(target, test_predicted)\n",
    "\n",
    "print('Confusion matrix:\\n', confusion_matrix(true_labels, predicted_labels))\n",
    "print(classification_report(true_labels, predicted_labels))"
   ]
  },
  {
   "cell_type": "code",
   "execution_count": 147,
   "metadata": {},
   "outputs": [
    {
     "data": {
      "text/plain": [
       "RandomForestClassifier(bootstrap=True, class_weight=None, criterion='gini',\n",
       "                       max_depth=None, max_features='auto', max_leaf_nodes=None,\n",
       "                       min_impurity_decrease=0.0, min_impurity_split=None,\n",
       "                       min_samples_leaf=1, min_samples_split=2,\n",
       "                       min_weight_fraction_leaf=0.0, n_estimators=500,\n",
       "                       n_jobs=-1, oob_score=False, random_state=None, verbose=0,\n",
       "                       warm_start=False)"
      ]
     },
     "execution_count": 147,
     "metadata": {},
     "output_type": "execute_result"
    }
   ],
   "source": [
    "rnd_clf = RandomForestClassifier(n_estimators=500, n_jobs=-1)\n",
    "data = df.copy()\n",
    "target = data.pop(41)\n",
    "rnd_clf.fit(data, target)"
   ]
  },
  {
   "cell_type": "code",
   "execution_count": 224,
   "metadata": {},
   "outputs": [],
   "source": []
  },
  {
   "cell_type": "code",
   "execution_count": 148,
   "metadata": {},
   "outputs": [
    {
     "name": "stdout",
     "output_type": "stream",
     "text": [
      "Confusion matrix:\n",
      " [[ 200    0    0    0    0    0    0    0    0    0]\n",
      " [   0  200    0    0    0    0    0    0    0    0]\n",
      " [   0    0  200    0    0    0    0    0    0    0]\n",
      " [   0    0    0  200    0    0    0    0    0    0]\n",
      " [   0    0    0    0 1600    0    0    0    0    0]\n",
      " [   0    0    0    0    0  200    0    0    0    0]\n",
      " [   0    0    0    0    0    0  200    0    0    0]\n",
      " [   0    0    0    0    0    0    0  200    0    0]\n",
      " [   0    0    0    0    0    0    0    0  200    0]\n",
      " [   0    0    0    0    0    0    0    0    0  200]]\n",
      "              precision    recall  f1-score   support\n",
      "\n",
      "        back       1.00      1.00      1.00       200\n",
      "     ipsweep       1.00      1.00      1.00       200\n",
      "     neptune       1.00      1.00      1.00       200\n",
      "        nmap       1.00      1.00      1.00       200\n",
      "      normal       1.00      1.00      1.00      1600\n",
      "   portsweep       1.00      1.00      1.00       200\n",
      "       satan       1.00      1.00      1.00       200\n",
      "       smurf       1.00      1.00      1.00       200\n",
      "    teardrop       1.00      1.00      1.00       200\n",
      " warezclient       1.00      1.00      1.00       200\n",
      "\n",
      "    accuracy                           1.00      3400\n",
      "   macro avg       1.00      1.00      1.00      3400\n",
      "weighted avg       1.00      1.00      1.00      3400\n",
      "\n"
     ]
    }
   ],
   "source": [
    "data = test_df.copy()\n",
    "true_labels = data.pop(41)\n",
    "predicted_labels = rnd_clf.predict(data)\n",
    "#accuracy_score(target, test_predicted)\n",
    "\n",
    "print('Confusion matrix:\\n', confusion_matrix(true_labels, predicted_labels))\n",
    "print(classification_report(true_labels, predicted_labels))"
   ]
  },
  {
   "cell_type": "code",
   "execution_count": 158,
   "metadata": {},
   "outputs": [
    {
     "data": {
      "text/plain": [
       "smurf              2807886\n",
       "neptune            1072017\n",
       "normal              972781\n",
       "satan                15892\n",
       "ipsweep              12481\n",
       "portsweep            10413\n",
       "nmap                  2316\n",
       "back                  2203\n",
       "warezclient           1020\n",
       "teardrop               979\n",
       "pod                    264\n",
       "guess_passwd            53\n",
       "buffer_overflow         30\n",
       "land                    21\n",
       "warezmaster             20\n",
       "imap                    12\n",
       "rootkit                 10\n",
       "loadmodule               9\n",
       "ftp_write                8\n",
       "multihop                 7\n",
       "phf                      4\n",
       "perl                     3\n",
       "spy                      2\n",
       "Name: 41, dtype: int64"
      ]
     },
     "execution_count": 158,
     "metadata": {},
     "output_type": "execute_result"
    }
   ],
   "source": [
    "classes = list(df[41].value_counts().keys())\n",
    "df[41].value_counts()"
   ]
  },
  {
   "cell_type": "code",
   "execution_count": 162,
   "metadata": {},
   "outputs": [
    {
     "data": {
      "text/plain": [
       "(['neptune',\n",
       "  'normal',\n",
       "  'satan',\n",
       "  'ipsweep',\n",
       "  'portsweep',\n",
       "  'nmap',\n",
       "  'back',\n",
       "  'warezclient',\n",
       "  'teardrop',\n",
       "  'pod'],\n",
       " ['guess_passwd',\n",
       "  'buffer_overflow',\n",
       "  'land',\n",
       "  'warezmaster',\n",
       "  'imap',\n",
       "  'rootkit',\n",
       "  'loadmodule',\n",
       "  'ftp_write',\n",
       "  'multihop',\n",
       "  'phf',\n",
       "  'perl',\n",
       "  'spy'])"
      ]
     },
     "execution_count": 162,
     "metadata": {},
     "output_type": "execute_result"
    }
   ],
   "source": [
    "classes[1:11], classes[11:]"
   ]
  },
  {
   "cell_type": "code",
   "execution_count": 164,
   "metadata": {},
   "outputs": [
    {
     "data": {
      "text/plain": [
       "2379"
      ]
     },
     "execution_count": 164,
     "metadata": {},
     "output_type": "execute_result"
    }
   ],
   "source": [
    "new_train_df = df[df[41]==classes[0]][-200:]\n",
    "\n",
    "for _class in classes[1:11]:\n",
    "    new_train_df = new_train_df.merge(df[df[41]==_class][-200:], how='outer')\n",
    "for _class in classes[11:]:\n",
    "    new_train_df = new_train_df.merge(df[df[41]==_class], how='outer')\n",
    "len(new_train_df)"
   ]
  },
  {
   "cell_type": "code",
   "execution_count": 165,
   "metadata": {},
   "outputs": [
    {
     "name": "stdout",
     "output_type": "stream",
     "text": [
      "Confusion matrix:\n",
      " [[200   0   0   0   0   0   0   0   0   0   0   0   0   0   0   0   0   0\n",
      "    0   0   0   0   0]\n",
      " [  0  30   0   0   0   0   0   0   0   0   0   0   0   0   0   0   0   0\n",
      "    0   0   0   0   0]\n",
      " [  0   0   8   0   0   0   0   0   0   0   0   0   0   0   0   0   0   0\n",
      "    0   0   0   0   0]\n",
      " [  0   0   0  53   0   0   0   0   0   0   0   0   0   0   0   0   0   0\n",
      "    0   0   0   0   0]\n",
      " [  0   0   0   0  12   0   0   0   0   0   0   0   0   0   0   0   0   0\n",
      "    0   0   0   0   0]\n",
      " [  0   0   0   0   0 200   0   0   0   0   0   0   0   0   0   0   0   0\n",
      "    0   0   0   0   0]\n",
      " [  0   0   0   0   0   0  21   0   0   0   0   0   0   0   0   0   0   0\n",
      "    0   0   0   0   0]\n",
      " [  0   0   0   0   0   0   0   9   0   0   0   0   0   0   0   0   0   0\n",
      "    0   0   0   0   0]\n",
      " [  0   0   0   0   0   0   0   0   7   0   0   0   0   0   0   0   0   0\n",
      "    0   0   0   0   0]\n",
      " [  0   0   0   0   0   0   0   0   0 200   0   0   0   0   0   0   0   0\n",
      "    0   0   0   0   0]\n",
      " [  0   0   0   0   0   0   0   0   0   0 200   0   0   0   0   0   0   0\n",
      "    0   0   0   0   0]\n",
      " [  0   0   0   0   0   0   0   0   0   0   0 200   0   0   0   0   0   0\n",
      "    0   0   0   0   0]\n",
      " [  0   0   0   0   0   0   0   0   0   0   0   0   3   0   0   0   0   0\n",
      "    0   0   0   0   0]\n",
      " [  0   0   0   0   0   0   0   0   0   0   0   0   0   4   0   0   0   0\n",
      "    0   0   0   0   0]\n",
      " [  0   0   0   0   0   0   0   0   0   0   0   2   0   0 198   0   0   0\n",
      "    0   0   0   0   0]\n",
      " [  0   0   0   0   0   0   0   0   0   0   0   0   0   0   0 200   0   0\n",
      "    0   0   0   0   0]\n",
      " [  0   0   0   0   0   0   0   0   0   0   0   1   0   0   0   0   9   0\n",
      "    0   0   0   0   0]\n",
      " [  0   0   0   0   0   0   0   0   0   0   0   0   0   0   0   0   0 200\n",
      "    0   0   0   0   0]\n",
      " [  0   0   0   0   0   0   0   0   0   0   0   0   0   0   0   0   0   0\n",
      "  200   0   0   0   0]\n",
      " [  0   0   0   0   0   0   0   0   0   0   0   0   0   0   0   0   0   0\n",
      "    0   2   0   0   0]\n",
      " [  0   0   0   0   0   0   0   0   0   0   0   0   0   0   0   0   0   0\n",
      "    0   0 200   0   0]\n",
      " [  0   0   0   0   0   0   0   0   0   0   0   0   0   0   0   0   0   0\n",
      "    0   0   0 200   0]\n",
      " [  0   0   0   0   0   0   0   0   0   0   0   0   0   0   0   0   0   0\n",
      "    0   0   0   0  20]]\n",
      "                 precision    recall  f1-score   support\n",
      "\n",
      "           back       1.00      1.00      1.00       200\n",
      "buffer_overflow       1.00      1.00      1.00        30\n",
      "      ftp_write       1.00      1.00      1.00         8\n",
      "   guess_passwd       1.00      1.00      1.00        53\n",
      "           imap       1.00      1.00      1.00        12\n",
      "        ipsweep       1.00      1.00      1.00       200\n",
      "           land       1.00      1.00      1.00        21\n",
      "     loadmodule       1.00      1.00      1.00         9\n",
      "       multihop       1.00      1.00      1.00         7\n",
      "        neptune       1.00      1.00      1.00       200\n",
      "           nmap       1.00      1.00      1.00       200\n",
      "         normal       0.99      1.00      0.99       200\n",
      "           perl       1.00      1.00      1.00         3\n",
      "            phf       1.00      1.00      1.00         4\n",
      "            pod       1.00      0.99      0.99       200\n",
      "      portsweep       1.00      1.00      1.00       200\n",
      "        rootkit       1.00      0.90      0.95        10\n",
      "          satan       1.00      1.00      1.00       200\n",
      "          smurf       1.00      1.00      1.00       200\n",
      "            spy       1.00      1.00      1.00         2\n",
      "       teardrop       1.00      1.00      1.00       200\n",
      "    warezclient       1.00      1.00      1.00       200\n",
      "    warezmaster       1.00      1.00      1.00        20\n",
      "\n",
      "       accuracy                           1.00      2379\n",
      "      macro avg       1.00      1.00      1.00      2379\n",
      "   weighted avg       1.00      1.00      1.00      2379\n",
      "\n"
     ]
    }
   ],
   "source": [
    "data = new_train_df.copy()\n",
    "true_labels = data.pop(41)\n",
    "predicted_labels = rnd_clf.predict(data)\n",
    "#accuracy_score(target, test_predicted)\n",
    "\n",
    "print('Confusion matrix:\\n', confusion_matrix(true_labels, predicted_labels))\n",
    "print(classification_report(true_labels, predicted_labels))"
   ]
  },
  {
   "cell_type": "code",
   "execution_count": null,
   "metadata": {},
   "outputs": [],
   "source": []
  }
 ],
 "metadata": {
  "kernelspec": {
   "display_name": "Python 3",
   "language": "python",
   "name": "python3"
  },
  "language_info": {
   "codemirror_mode": {
    "name": "ipython",
    "version": 3
   },
   "file_extension": ".py",
   "mimetype": "text/x-python",
   "name": "python",
   "nbconvert_exporter": "python",
   "pygments_lexer": "ipython3",
   "version": "3.7.5"
  },
  "widgets": {
   "application/vnd.jupyter.widget-state+json": {
    "state": {},
    "version_major": 2,
    "version_minor": 0
   }
  }
 },
 "nbformat": 4,
 "nbformat_minor": 2
}
